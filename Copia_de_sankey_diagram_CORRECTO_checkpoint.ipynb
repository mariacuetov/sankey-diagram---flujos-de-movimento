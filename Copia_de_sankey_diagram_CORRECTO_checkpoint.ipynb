{
  "cells": [
    {
      "cell_type": "markdown",
      "id": "efedeaa4",
      "metadata": {
        "id": "efedeaa4"
      },
      "source": [
        "# Create Sankey diagram to represent relations "
      ]
    },
    {
      "cell_type": "code",
      "execution_count": null,
      "id": "f031db24",
      "metadata": {
        "id": "f031db24"
      },
      "outputs": [],
      "source": [
        "import pandas as pd\n",
        "import numpy as np\n",
        "import plotly.graph_objects as go\n",
        "import plotly.express as px\n",
        "import itertools\n",
        "\n",
        "from plotly.offline import download_plotlyjs, init_notebook_mode, plot, iplot"
      ]
    },
    {
      "cell_type": "markdown",
      "id": "d32f3f59",
      "metadata": {
        "id": "d32f3f59"
      },
      "source": [
        "### Import the excel with the necessary information"
      ]
    },
    {
      "cell_type": "code",
      "execution_count": null,
      "id": "4583869f",
      "metadata": {
        "id": "4583869f",
        "colab": {
          "base_uri": "https://localhost:8080/",
          "height": 345
        },
        "outputId": "a5b351bb-f0de-46dc-b1fc-d1d0c5f93cf9"
      },
      "outputs": [
        {
          "output_type": "error",
          "ename": "FileNotFoundError",
          "evalue": "ignored",
          "traceback": [
            "\u001b[0;31m---------------------------------------------------------------------------\u001b[0m",
            "\u001b[0;31mFileNotFoundError\u001b[0m                         Traceback (most recent call last)",
            "\u001b[0;32m<ipython-input-2-376b25bb256e>\u001b[0m in \u001b[0;36m<module>\u001b[0;34m\u001b[0m\n\u001b[0;32m----> 1\u001b[0;31m \u001b[0mdf\u001b[0m \u001b[0;34m=\u001b[0m \u001b[0mpd\u001b[0m\u001b[0;34m.\u001b[0m\u001b[0mread_excel\u001b[0m\u001b[0;34m(\u001b[0m\u001b[0;34mr\"/content/hardskillflux_indesia2.xlsx\"\u001b[0m\u001b[0;34m)\u001b[0m\u001b[0;34m\u001b[0m\u001b[0;34m\u001b[0m\u001b[0m\n\u001b[0m\u001b[1;32m      2\u001b[0m \u001b[0mdf\u001b[0m\u001b[0;34m.\u001b[0m\u001b[0mcolumns\u001b[0m \u001b[0;34m=\u001b[0m \u001b[0;34m[\u001b[0m\u001b[0;34m'source'\u001b[0m\u001b[0;34m,\u001b[0m \u001b[0;34m'target'\u001b[0m\u001b[0;34m,\u001b[0m\u001b[0;34m'value'\u001b[0m\u001b[0;34m]\u001b[0m\u001b[0;34m\u001b[0m\u001b[0;34m\u001b[0m\u001b[0m\n",
            "\u001b[0;32m/usr/local/lib/python3.8/dist-packages/pandas/util/_decorators.py\u001b[0m in \u001b[0;36mwrapper\u001b[0;34m(*args, **kwargs)\u001b[0m\n\u001b[1;32m    309\u001b[0m                     \u001b[0mstacklevel\u001b[0m\u001b[0;34m=\u001b[0m\u001b[0mstacklevel\u001b[0m\u001b[0;34m,\u001b[0m\u001b[0;34m\u001b[0m\u001b[0;34m\u001b[0m\u001b[0m\n\u001b[1;32m    310\u001b[0m                 )\n\u001b[0;32m--> 311\u001b[0;31m             \u001b[0;32mreturn\u001b[0m \u001b[0mfunc\u001b[0m\u001b[0;34m(\u001b[0m\u001b[0;34m*\u001b[0m\u001b[0margs\u001b[0m\u001b[0;34m,\u001b[0m \u001b[0;34m**\u001b[0m\u001b[0mkwargs\u001b[0m\u001b[0;34m)\u001b[0m\u001b[0;34m\u001b[0m\u001b[0;34m\u001b[0m\u001b[0m\n\u001b[0m\u001b[1;32m    312\u001b[0m \u001b[0;34m\u001b[0m\u001b[0m\n\u001b[1;32m    313\u001b[0m         \u001b[0;32mreturn\u001b[0m \u001b[0mwrapper\u001b[0m\u001b[0;34m\u001b[0m\u001b[0;34m\u001b[0m\u001b[0m\n",
            "\u001b[0;32m/usr/local/lib/python3.8/dist-packages/pandas/io/excel/_base.py\u001b[0m in \u001b[0;36mread_excel\u001b[0;34m(io, sheet_name, header, names, index_col, usecols, squeeze, dtype, engine, converters, true_values, false_values, skiprows, nrows, na_values, keep_default_na, na_filter, verbose, parse_dates, date_parser, thousands, comment, skipfooter, convert_float, mangle_dupe_cols, storage_options)\u001b[0m\n\u001b[1;32m    362\u001b[0m     \u001b[0;32mif\u001b[0m \u001b[0;32mnot\u001b[0m \u001b[0misinstance\u001b[0m\u001b[0;34m(\u001b[0m\u001b[0mio\u001b[0m\u001b[0;34m,\u001b[0m \u001b[0mExcelFile\u001b[0m\u001b[0;34m)\u001b[0m\u001b[0;34m:\u001b[0m\u001b[0;34m\u001b[0m\u001b[0;34m\u001b[0m\u001b[0m\n\u001b[1;32m    363\u001b[0m         \u001b[0mshould_close\u001b[0m \u001b[0;34m=\u001b[0m \u001b[0;32mTrue\u001b[0m\u001b[0;34m\u001b[0m\u001b[0;34m\u001b[0m\u001b[0m\n\u001b[0;32m--> 364\u001b[0;31m         \u001b[0mio\u001b[0m \u001b[0;34m=\u001b[0m \u001b[0mExcelFile\u001b[0m\u001b[0;34m(\u001b[0m\u001b[0mio\u001b[0m\u001b[0;34m,\u001b[0m \u001b[0mstorage_options\u001b[0m\u001b[0;34m=\u001b[0m\u001b[0mstorage_options\u001b[0m\u001b[0;34m,\u001b[0m \u001b[0mengine\u001b[0m\u001b[0;34m=\u001b[0m\u001b[0mengine\u001b[0m\u001b[0;34m)\u001b[0m\u001b[0;34m\u001b[0m\u001b[0;34m\u001b[0m\u001b[0m\n\u001b[0m\u001b[1;32m    365\u001b[0m     \u001b[0;32melif\u001b[0m \u001b[0mengine\u001b[0m \u001b[0;32mand\u001b[0m \u001b[0mengine\u001b[0m \u001b[0;34m!=\u001b[0m \u001b[0mio\u001b[0m\u001b[0;34m.\u001b[0m\u001b[0mengine\u001b[0m\u001b[0;34m:\u001b[0m\u001b[0;34m\u001b[0m\u001b[0;34m\u001b[0m\u001b[0m\n\u001b[1;32m    366\u001b[0m         raise ValueError(\n",
            "\u001b[0;32m/usr/local/lib/python3.8/dist-packages/pandas/io/excel/_base.py\u001b[0m in \u001b[0;36m__init__\u001b[0;34m(self, path_or_buffer, engine, storage_options)\u001b[0m\n\u001b[1;32m   1189\u001b[0m                 \u001b[0mext\u001b[0m \u001b[0;34m=\u001b[0m \u001b[0;34m\"xls\"\u001b[0m\u001b[0;34m\u001b[0m\u001b[0;34m\u001b[0m\u001b[0m\n\u001b[1;32m   1190\u001b[0m             \u001b[0;32melse\u001b[0m\u001b[0;34m:\u001b[0m\u001b[0;34m\u001b[0m\u001b[0;34m\u001b[0m\u001b[0m\n\u001b[0;32m-> 1191\u001b[0;31m                 ext = inspect_excel_format(\n\u001b[0m\u001b[1;32m   1192\u001b[0m                     \u001b[0mcontent_or_path\u001b[0m\u001b[0;34m=\u001b[0m\u001b[0mpath_or_buffer\u001b[0m\u001b[0;34m,\u001b[0m \u001b[0mstorage_options\u001b[0m\u001b[0;34m=\u001b[0m\u001b[0mstorage_options\u001b[0m\u001b[0;34m\u001b[0m\u001b[0;34m\u001b[0m\u001b[0m\n\u001b[1;32m   1193\u001b[0m                 )\n",
            "\u001b[0;32m/usr/local/lib/python3.8/dist-packages/pandas/io/excel/_base.py\u001b[0m in \u001b[0;36minspect_excel_format\u001b[0;34m(content_or_path, storage_options)\u001b[0m\n\u001b[1;32m   1068\u001b[0m         \u001b[0mcontent_or_path\u001b[0m \u001b[0;34m=\u001b[0m \u001b[0mBytesIO\u001b[0m\u001b[0;34m(\u001b[0m\u001b[0mcontent_or_path\u001b[0m\u001b[0;34m)\u001b[0m\u001b[0;34m\u001b[0m\u001b[0;34m\u001b[0m\u001b[0m\n\u001b[1;32m   1069\u001b[0m \u001b[0;34m\u001b[0m\u001b[0m\n\u001b[0;32m-> 1070\u001b[0;31m     with get_handle(\n\u001b[0m\u001b[1;32m   1071\u001b[0m         \u001b[0mcontent_or_path\u001b[0m\u001b[0;34m,\u001b[0m \u001b[0;34m\"rb\"\u001b[0m\u001b[0;34m,\u001b[0m \u001b[0mstorage_options\u001b[0m\u001b[0;34m=\u001b[0m\u001b[0mstorage_options\u001b[0m\u001b[0;34m,\u001b[0m \u001b[0mis_text\u001b[0m\u001b[0;34m=\u001b[0m\u001b[0;32mFalse\u001b[0m\u001b[0;34m\u001b[0m\u001b[0;34m\u001b[0m\u001b[0m\n\u001b[1;32m   1072\u001b[0m     ) as handle:\n",
            "\u001b[0;32m/usr/local/lib/python3.8/dist-packages/pandas/io/common.py\u001b[0m in \u001b[0;36mget_handle\u001b[0;34m(path_or_buf, mode, encoding, compression, memory_map, is_text, errors, storage_options)\u001b[0m\n\u001b[1;32m    709\u001b[0m         \u001b[0;32melse\u001b[0m\u001b[0;34m:\u001b[0m\u001b[0;34m\u001b[0m\u001b[0;34m\u001b[0m\u001b[0m\n\u001b[1;32m    710\u001b[0m             \u001b[0;31m# Binary mode\u001b[0m\u001b[0;34m\u001b[0m\u001b[0;34m\u001b[0m\u001b[0;34m\u001b[0m\u001b[0m\n\u001b[0;32m--> 711\u001b[0;31m             \u001b[0mhandle\u001b[0m \u001b[0;34m=\u001b[0m \u001b[0mopen\u001b[0m\u001b[0;34m(\u001b[0m\u001b[0mhandle\u001b[0m\u001b[0;34m,\u001b[0m \u001b[0mioargs\u001b[0m\u001b[0;34m.\u001b[0m\u001b[0mmode\u001b[0m\u001b[0;34m)\u001b[0m\u001b[0;34m\u001b[0m\u001b[0;34m\u001b[0m\u001b[0m\n\u001b[0m\u001b[1;32m    712\u001b[0m         \u001b[0mhandles\u001b[0m\u001b[0;34m.\u001b[0m\u001b[0mappend\u001b[0m\u001b[0;34m(\u001b[0m\u001b[0mhandle\u001b[0m\u001b[0;34m)\u001b[0m\u001b[0;34m\u001b[0m\u001b[0;34m\u001b[0m\u001b[0m\n\u001b[1;32m    713\u001b[0m \u001b[0;34m\u001b[0m\u001b[0m\n",
            "\u001b[0;31mFileNotFoundError\u001b[0m: [Errno 2] No such file or directory: '/content/hardskillflux_indesia2.xlsx'"
          ]
        }
      ],
      "source": [
        "df = pd.read_excel(r\"/content/hardskillflux_indesia2.xlsx\")\n",
        "df.columns = ['source', 'target','value']\n"
      ]
    },
    {
      "cell_type": "code",
      "source": [
        "print(df)"
      ],
      "metadata": {
        "colab": {
          "base_uri": "https://localhost:8080/"
        },
        "id": "zu5G8v564azR",
        "outputId": "bc071034-422e-457d-c247-48e2b37fdc32"
      },
      "id": "zu5G8v564azR",
      "execution_count": null,
      "outputs": [
        {
          "output_type": "stream",
          "name": "stdout",
          "text": [
            "                    source               target  value\n",
            "0   Citizen data scientist  amazon web services      1\n",
            "1   Citizen data scientist      cloud computing      1\n",
            "2   Citizen data scientist               hadoop      1\n",
            "3   Citizen data scientist                 java      1\n",
            "4   Citizen data scientist           javascript      1\n",
            "..                     ...                  ...    ...\n",
            "95             ML engineer                 java      1\n",
            "96             ML engineer                  nlp      1\n",
            "97             ML engineer                spark      1\n",
            "98             ML engineer                 unix      1\n",
            "99             ML engineer     machine learning      1\n",
            "\n",
            "[100 rows x 3 columns]\n"
          ]
        }
      ]
    },
    {
      "cell_type": "markdown",
      "id": "b3847775",
      "metadata": {
        "id": "b3847775"
      },
      "source": [
        "#### Transform Excel file into a padas dataframe"
      ]
    },
    {
      "cell_type": "code",
      "execution_count": null,
      "id": "d6c4045c",
      "metadata": {
        "id": "d6c4045c"
      },
      "outputs": [],
      "source": [
        "df_nodes= pd.DataFrame(df, columns =['source', 'target'])\n"
      ]
    },
    {
      "cell_type": "code",
      "source": [
        "print(df_nodes)"
      ],
      "metadata": {
        "colab": {
          "base_uri": "https://localhost:8080/"
        },
        "id": "ahprx5sU4-Hb",
        "outputId": "693a372d-c327-4954-c06a-95f2dbbe60e3"
      },
      "id": "ahprx5sU4-Hb",
      "execution_count": null,
      "outputs": [
        {
          "output_type": "stream",
          "name": "stdout",
          "text": [
            "                    source               target\n",
            "0   Citizen data scientist  amazon web services\n",
            "1   Citizen data scientist      cloud computing\n",
            "2   Citizen data scientist               hadoop\n",
            "3   Citizen data scientist                 java\n",
            "4   Citizen data scientist           javascript\n",
            "..                     ...                  ...\n",
            "95             ML engineer                 java\n",
            "96             ML engineer                  nlp\n",
            "97             ML engineer                spark\n",
            "98             ML engineer                 unix\n",
            "99             ML engineer     machine learning\n",
            "\n",
            "[100 rows x 2 columns]\n"
          ]
        }
      ]
    },
    {
      "cell_type": "markdown",
      "id": "4f202998",
      "metadata": {
        "id": "4f202998"
      },
      "source": [
        "##### - indenty the unique values in each column - NODES"
      ]
    },
    {
      "cell_type": "code",
      "execution_count": null,
      "id": "ae3a9ec5",
      "metadata": {
        "id": "ae3a9ec5"
      },
      "outputs": [],
      "source": [
        "nodes=np.unique(df[[\"source\",'target']].values.ravel('K'))\n",
        "\n",
        "nodes =pd.Series(index=nodes, data=range(len(nodes)))\n",
        "no2=list(np.unique(df[[\"target\"]].values.ravel('K')))\n",
        "no1=list(np.unique(df[[\"source\"]].values.ravel('K')))\n"
      ]
    },
    {
      "cell_type": "markdown",
      "id": "a92a22a7",
      "metadata": {
        "id": "a92a22a7"
      },
      "source": [
        "##### - mapping each unique value to their numeric key id"
      ]
    },
    {
      "cell_type": "code",
      "execution_count": null,
      "id": "ea8a6e18",
      "metadata": {
        "id": "ea8a6e18"
      },
      "outputs": [],
      "source": [
        "noodes=list(np.unique(df[[\"source\",'target']].values.ravel('K')))\n",
        "mapping_dict = {k: v for v, k in enumerate(noodes)}\n",
        "df['source'] = df['source'].map(mapping_dict)\n",
        "df['target'] = df['target'].map(mapping_dict)\n"
      ]
    },
    {
      "cell_type": "code",
      "execution_count": null,
      "id": "b68a3819",
      "metadata": {
        "id": "b68a3819"
      },
      "outputs": [],
      "source": [
        "links_dict = df.to_dict(orient='list')\n"
      ]
    },
    {
      "cell_type": "markdown",
      "id": "4b5c4ad6",
      "metadata": {
        "id": "4b5c4ad6"
      },
      "source": [
        "##### - Create dictionnary of colors for nodes and links"
      ]
    },
    {
      "cell_type": "code",
      "execution_count": null,
      "id": "d508ef14",
      "metadata": {
        "id": "d508ef14"
      },
      "outputs": [],
      "source": [
        "color_dict = {'Citizen data scientist': 'rgba(238,238,0,0.7)', 'Data Analyst':'rgba(0,205,0,0.7)', 'Data Architect':'rgba(0,238,238,0.7)', 'Data Engineer': 'rgba(69,139,0,0.7)', 'Data Governance':'rgba(6,89,171,0.7)', 'Data Scientist':'rgba(255,128,0,0.7)'}\n",
        "#,'Data Steward':'rgba(218,112,214,0.7)', 'Data Translator':'rgba(139,71,137,0.7)', 'Data Visualization':'rgba(255,52,179,0.7)', 'IoT Specialist':'rgba(0,128,128,0.7)', 'ML engineer':'rgba(139,139,0,0.7)','industry 4.0 specialist':'rgba(255,114,86,0.7)'}\n",
        "color_dict_link =  {'Citizen data scientist': 'rgba(238,238,0,0.4)', 'Data Analyst':'rgba(0,205,0,0.4)', 'Data Architect':'rgba(0,238,238,0.4)', 'Data Engineer': 'rgba(69,139,0,0.4)', 'Data Governance':'rgba(6,89,171,0.4)', 'Data Scientist':'rgba(255,128,0,0.4)'}\n",
        "#,'Data Steward':'rgba(218,112,214,0.4)', 'Data Translator':'rgba(139,71,137,0.4)', 'Data Visualization':'rgba(255,52,179,0.4)', 'IoT Specialist':'rgba(0,128,128,0.4)', 'ML engineer':'rgba(139,139,0,0.4)', 'industry 4.0 specialist':'rgba(255,114,86,0.4)'}\n"
      ]
    },
    {
      "cell_type": "markdown",
      "id": "cee5b905",
      "metadata": {
        "id": "cee5b905"
      },
      "source": [
        "## Setting up and plotting a Sankey Diagram "
      ]
    },
    {
      "cell_type": "code",
      "execution_count": null,
      "id": "a87ea9db",
      "metadata": {
        "id": "a87ea9db"
      },
      "outputs": [],
      "source": [
        "fig = go.Figure(data=[go.Sankey(\n",
        "   textfont=dict( size=10),#color='rgba(0,0,0,0)'\n",
        "      arrangement='snap',\n",
        "      node = dict(\n",
        "       pad = 1.49,\n",
        "      thickness = 28,\n",
        "      #line = dict(color = \"white\", width = 0.8),\n",
        "      label =noodes,\n",
        "    # hovertemplate='<b>%{value}<extra></extra> employees leaving</b> <br>%{label}',\n",
        "     # color = [color_dict[x[0]] for x in nodees],\n",
        "      \n",
        "    \n",
        "    ),\n",
        "    \n",
        "\n",
        "        link= dict(\n",
        "             source = links_dict[\"source\"],\n",
        "             target = links_dict[\"target\"],\n",
        "             value = links_dict[\"value\"],\n",
        "            #color = [color_dict_link[x.split('_')[0]] for x in no]\n",
        "            #['#9400D3','#9400D3','#9400D3','#9400D3','#03A89E','#03A89E','#03A89E','#03A89E','#03A89E','#00E5EE','#00E5EE','#00E5EE','#00E5EE','#00E5EE','#B9D3EE','#B9D3EE','#B9D3EE','#B9D3EE','#B9D3EE','#FFD700','#FFD700','#FFD700','#FFD700','#FFD700','#FF34B3','#FF34B3','#FF34B3','#FF34B3'],\n",
        "        ),\n",
        "    )\n",
        "                     ],\n",
        "               )"
      ]
    },
    {
      "cell_type": "markdown",
      "id": "7263d449",
      "metadata": {
        "id": "7263d449"
      },
      "source": [
        "## Format modifications-  update layout"
      ]
    },
    {
      "cell_type": "code",
      "execution_count": null,
      "id": "4700750b",
      "metadata": {
        "id": "4700750b",
        "outputId": "e1c1ed6b-a1cc-46b2-e8e8-d2ab667b0ffd",
        "colab": {
          "base_uri": "https://localhost:8080/",
          "height": 1000
        }
      },
      "outputs": [
        {
          "output_type": "display_data",
          "data": {
            "text/html": [
              "<html>\n",
              "<head><meta charset=\"utf-8\" /></head>\n",
              "<body>\n",
              "    <div>            <script src=\"https://cdnjs.cloudflare.com/ajax/libs/mathjax/2.7.5/MathJax.js?config=TeX-AMS-MML_SVG\"></script><script type=\"text/javascript\">if (window.MathJax) {MathJax.Hub.Config({SVG: {font: \"STIX-Web\"}});}</script>                <script type=\"text/javascript\">window.PlotlyConfig = {MathJaxConfig: 'local'};</script>\n",
              "        <script src=\"https://cdn.plot.ly/plotly-2.8.3.min.js\"></script>                <div id=\"dcaf3ac6-0e62-4d25-90ec-c6b80dec3c64\" class=\"plotly-graph-div\" style=\"height:1300px; width:900px;\"></div>            <script type=\"text/javascript\">                                    window.PLOTLYENV=window.PLOTLYENV || {};                                    if (document.getElementById(\"dcaf3ac6-0e62-4d25-90ec-c6b80dec3c64\")) {                    Plotly.newPlot(                        \"dcaf3ac6-0e62-4d25-90ec-c6b80dec3c64\",                        [{\"arrangement\":\"snap\",\"link\":{\"source\":[0,0,0,0,0,0,0,0,0,0,0,0,1,1,1,1,1,1,2,2,2,2,2,2,2,2,2,2,2,2,3,3,3,3,3,3,3,3,3,4,4,4,4,5,5,5,5,5,5,5,5,6,6,6,6,6,6,6,6,6,6,6,6,7,7,7,8,8,8,8,8,8,8,8,26,26,26,9,9,9,9,9,9,9,9,9,9,9,9,9,9,10,10,10,10,10,10,10,10,10],\"target\":[14,19,25,29,30,36,44,38,41,43,44,44,29,30,40,41,44,45,14,19,25,29,30,36,44,38,41,43,44,44,14,16,19,20,23,29,32,41,43,21,29,41,44,15,29,33,34,44,41,43,44,14,19,25,29,30,36,44,38,41,43,44,44,11,12,13,24,31,40,41,42,44,45,47,40,45,22,17,19,23,27,28,29,30,34,35,44,39,41,44,48,17,18,19,25,29,37,43,46,33],\"value\":[1,1,1,1,1,1,1,1,1,1,1,1,1,1,1,1,1,1,1,1,1,1,1,1,1,1,1,1,1,1,1,1,1,1,1,1,1,1,1,1,1,1,1,1,1,1,1,1,1,1,1,1,1,1,1,1,1,1,1,1,1,1,1,1,1,1,1,1,1,1,1,1,1,1,1,1,1,1,1,1,1,1,1,1,1,1,1,1,1,1,1,1,1,1,1,1,1,1,1,1]},\"node\":{\"label\":[\"Citizen data scientist\",\"Data Analyst\",\"Data Architect\",\"Data Engineer\",\"Data Governance\",\"Data Scientist\",\"Data Steward\",\"Data Translator\",\"Data Visualization\",\"IoT Specialist\",\"ML engineer\",\"Pyhton\",\"R\",\"SQL\",\"amazon web services\",\"artificial intelligence\",\"azure\",\"c\",\"c++\",\"cloud computing\",\"etl\",\"gdpr\",\"gds\",\"git\",\"google data studio\",\"hadoop\",\"industry 4.0 specialist\",\"internet of things\",\"internet protocols\",\"java\",\"javascript\",\"jupiter\",\"kafka\",\"machine learning\",\"matlab\",\"mobile devices\",\"mongodb\",\"nlp\",\"oracle\",\"php\",\"powerbi\",\"python\",\"r\",\"spark\",\"sql\",\"tableau\",\"unix\",\"vba\",\"wireless networks\"],\"pad\":1.49,\"thickness\":28},\"textfont\":{\"size\":10},\"type\":\"sankey\"}],                        {\"template\":{\"data\":{\"bar\":[{\"error_x\":{\"color\":\"#2a3f5f\"},\"error_y\":{\"color\":\"#2a3f5f\"},\"marker\":{\"line\":{\"color\":\"#E5ECF6\",\"width\":0.5},\"pattern\":{\"fillmode\":\"overlay\",\"size\":10,\"solidity\":0.2}},\"type\":\"bar\"}],\"barpolar\":[{\"marker\":{\"line\":{\"color\":\"#E5ECF6\",\"width\":0.5},\"pattern\":{\"fillmode\":\"overlay\",\"size\":10,\"solidity\":0.2}},\"type\":\"barpolar\"}],\"carpet\":[{\"aaxis\":{\"endlinecolor\":\"#2a3f5f\",\"gridcolor\":\"white\",\"linecolor\":\"white\",\"minorgridcolor\":\"white\",\"startlinecolor\":\"#2a3f5f\"},\"baxis\":{\"endlinecolor\":\"#2a3f5f\",\"gridcolor\":\"white\",\"linecolor\":\"white\",\"minorgridcolor\":\"white\",\"startlinecolor\":\"#2a3f5f\"},\"type\":\"carpet\"}],\"choropleth\":[{\"colorbar\":{\"outlinewidth\":0,\"ticks\":\"\"},\"type\":\"choropleth\"}],\"contour\":[{\"colorbar\":{\"outlinewidth\":0,\"ticks\":\"\"},\"colorscale\":[[0.0,\"#0d0887\"],[0.1111111111111111,\"#46039f\"],[0.2222222222222222,\"#7201a8\"],[0.3333333333333333,\"#9c179e\"],[0.4444444444444444,\"#bd3786\"],[0.5555555555555556,\"#d8576b\"],[0.6666666666666666,\"#ed7953\"],[0.7777777777777778,\"#fb9f3a\"],[0.8888888888888888,\"#fdca26\"],[1.0,\"#f0f921\"]],\"type\":\"contour\"}],\"contourcarpet\":[{\"colorbar\":{\"outlinewidth\":0,\"ticks\":\"\"},\"type\":\"contourcarpet\"}],\"heatmap\":[{\"colorbar\":{\"outlinewidth\":0,\"ticks\":\"\"},\"colorscale\":[[0.0,\"#0d0887\"],[0.1111111111111111,\"#46039f\"],[0.2222222222222222,\"#7201a8\"],[0.3333333333333333,\"#9c179e\"],[0.4444444444444444,\"#bd3786\"],[0.5555555555555556,\"#d8576b\"],[0.6666666666666666,\"#ed7953\"],[0.7777777777777778,\"#fb9f3a\"],[0.8888888888888888,\"#fdca26\"],[1.0,\"#f0f921\"]],\"type\":\"heatmap\"}],\"heatmapgl\":[{\"colorbar\":{\"outlinewidth\":0,\"ticks\":\"\"},\"colorscale\":[[0.0,\"#0d0887\"],[0.1111111111111111,\"#46039f\"],[0.2222222222222222,\"#7201a8\"],[0.3333333333333333,\"#9c179e\"],[0.4444444444444444,\"#bd3786\"],[0.5555555555555556,\"#d8576b\"],[0.6666666666666666,\"#ed7953\"],[0.7777777777777778,\"#fb9f3a\"],[0.8888888888888888,\"#fdca26\"],[1.0,\"#f0f921\"]],\"type\":\"heatmapgl\"}],\"histogram\":[{\"marker\":{\"pattern\":{\"fillmode\":\"overlay\",\"size\":10,\"solidity\":0.2}},\"type\":\"histogram\"}],\"histogram2d\":[{\"colorbar\":{\"outlinewidth\":0,\"ticks\":\"\"},\"colorscale\":[[0.0,\"#0d0887\"],[0.1111111111111111,\"#46039f\"],[0.2222222222222222,\"#7201a8\"],[0.3333333333333333,\"#9c179e\"],[0.4444444444444444,\"#bd3786\"],[0.5555555555555556,\"#d8576b\"],[0.6666666666666666,\"#ed7953\"],[0.7777777777777778,\"#fb9f3a\"],[0.8888888888888888,\"#fdca26\"],[1.0,\"#f0f921\"]],\"type\":\"histogram2d\"}],\"histogram2dcontour\":[{\"colorbar\":{\"outlinewidth\":0,\"ticks\":\"\"},\"colorscale\":[[0.0,\"#0d0887\"],[0.1111111111111111,\"#46039f\"],[0.2222222222222222,\"#7201a8\"],[0.3333333333333333,\"#9c179e\"],[0.4444444444444444,\"#bd3786\"],[0.5555555555555556,\"#d8576b\"],[0.6666666666666666,\"#ed7953\"],[0.7777777777777778,\"#fb9f3a\"],[0.8888888888888888,\"#fdca26\"],[1.0,\"#f0f921\"]],\"type\":\"histogram2dcontour\"}],\"mesh3d\":[{\"colorbar\":{\"outlinewidth\":0,\"ticks\":\"\"},\"type\":\"mesh3d\"}],\"parcoords\":[{\"line\":{\"colorbar\":{\"outlinewidth\":0,\"ticks\":\"\"}},\"type\":\"parcoords\"}],\"pie\":[{\"automargin\":true,\"type\":\"pie\"}],\"scatter\":[{\"marker\":{\"colorbar\":{\"outlinewidth\":0,\"ticks\":\"\"}},\"type\":\"scatter\"}],\"scatter3d\":[{\"line\":{\"colorbar\":{\"outlinewidth\":0,\"ticks\":\"\"}},\"marker\":{\"colorbar\":{\"outlinewidth\":0,\"ticks\":\"\"}},\"type\":\"scatter3d\"}],\"scattercarpet\":[{\"marker\":{\"colorbar\":{\"outlinewidth\":0,\"ticks\":\"\"}},\"type\":\"scattercarpet\"}],\"scattergeo\":[{\"marker\":{\"colorbar\":{\"outlinewidth\":0,\"ticks\":\"\"}},\"type\":\"scattergeo\"}],\"scattergl\":[{\"marker\":{\"colorbar\":{\"outlinewidth\":0,\"ticks\":\"\"}},\"type\":\"scattergl\"}],\"scattermapbox\":[{\"marker\":{\"colorbar\":{\"outlinewidth\":0,\"ticks\":\"\"}},\"type\":\"scattermapbox\"}],\"scatterpolar\":[{\"marker\":{\"colorbar\":{\"outlinewidth\":0,\"ticks\":\"\"}},\"type\":\"scatterpolar\"}],\"scatterpolargl\":[{\"marker\":{\"colorbar\":{\"outlinewidth\":0,\"ticks\":\"\"}},\"type\":\"scatterpolargl\"}],\"scatterternary\":[{\"marker\":{\"colorbar\":{\"outlinewidth\":0,\"ticks\":\"\"}},\"type\":\"scatterternary\"}],\"surface\":[{\"colorbar\":{\"outlinewidth\":0,\"ticks\":\"\"},\"colorscale\":[[0.0,\"#0d0887\"],[0.1111111111111111,\"#46039f\"],[0.2222222222222222,\"#7201a8\"],[0.3333333333333333,\"#9c179e\"],[0.4444444444444444,\"#bd3786\"],[0.5555555555555556,\"#d8576b\"],[0.6666666666666666,\"#ed7953\"],[0.7777777777777778,\"#fb9f3a\"],[0.8888888888888888,\"#fdca26\"],[1.0,\"#f0f921\"]],\"type\":\"surface\"}],\"table\":[{\"cells\":{\"fill\":{\"color\":\"#EBF0F8\"},\"line\":{\"color\":\"white\"}},\"header\":{\"fill\":{\"color\":\"#C8D4E3\"},\"line\":{\"color\":\"white\"}},\"type\":\"table\"}]},\"layout\":{\"annotationdefaults\":{\"arrowcolor\":\"#2a3f5f\",\"arrowhead\":0,\"arrowwidth\":1},\"autotypenumbers\":\"strict\",\"coloraxis\":{\"colorbar\":{\"outlinewidth\":0,\"ticks\":\"\"}},\"colorscale\":{\"diverging\":[[0,\"#8e0152\"],[0.1,\"#c51b7d\"],[0.2,\"#de77ae\"],[0.3,\"#f1b6da\"],[0.4,\"#fde0ef\"],[0.5,\"#f7f7f7\"],[0.6,\"#e6f5d0\"],[0.7,\"#b8e186\"],[0.8,\"#7fbc41\"],[0.9,\"#4d9221\"],[1,\"#276419\"]],\"sequential\":[[0.0,\"#0d0887\"],[0.1111111111111111,\"#46039f\"],[0.2222222222222222,\"#7201a8\"],[0.3333333333333333,\"#9c179e\"],[0.4444444444444444,\"#bd3786\"],[0.5555555555555556,\"#d8576b\"],[0.6666666666666666,\"#ed7953\"],[0.7777777777777778,\"#fb9f3a\"],[0.8888888888888888,\"#fdca26\"],[1.0,\"#f0f921\"]],\"sequentialminus\":[[0.0,\"#0d0887\"],[0.1111111111111111,\"#46039f\"],[0.2222222222222222,\"#7201a8\"],[0.3333333333333333,\"#9c179e\"],[0.4444444444444444,\"#bd3786\"],[0.5555555555555556,\"#d8576b\"],[0.6666666666666666,\"#ed7953\"],[0.7777777777777778,\"#fb9f3a\"],[0.8888888888888888,\"#fdca26\"],[1.0,\"#f0f921\"]]},\"colorway\":[\"#636efa\",\"#EF553B\",\"#00cc96\",\"#ab63fa\",\"#FFA15A\",\"#19d3f3\",\"#FF6692\",\"#B6E880\",\"#FF97FF\",\"#FECB52\"],\"font\":{\"color\":\"#2a3f5f\"},\"geo\":{\"bgcolor\":\"white\",\"lakecolor\":\"white\",\"landcolor\":\"#E5ECF6\",\"showlakes\":true,\"showland\":true,\"subunitcolor\":\"white\"},\"hoverlabel\":{\"align\":\"left\"},\"hovermode\":\"closest\",\"mapbox\":{\"style\":\"light\"},\"paper_bgcolor\":\"white\",\"plot_bgcolor\":\"#E5ECF6\",\"polar\":{\"angularaxis\":{\"gridcolor\":\"white\",\"linecolor\":\"white\",\"ticks\":\"\"},\"bgcolor\":\"#E5ECF6\",\"radialaxis\":{\"gridcolor\":\"white\",\"linecolor\":\"white\",\"ticks\":\"\"}},\"scene\":{\"xaxis\":{\"backgroundcolor\":\"#E5ECF6\",\"gridcolor\":\"white\",\"gridwidth\":2,\"linecolor\":\"white\",\"showbackground\":true,\"ticks\":\"\",\"zerolinecolor\":\"white\"},\"yaxis\":{\"backgroundcolor\":\"#E5ECF6\",\"gridcolor\":\"white\",\"gridwidth\":2,\"linecolor\":\"white\",\"showbackground\":true,\"ticks\":\"\",\"zerolinecolor\":\"white\"},\"zaxis\":{\"backgroundcolor\":\"#E5ECF6\",\"gridcolor\":\"white\",\"gridwidth\":2,\"linecolor\":\"white\",\"showbackground\":true,\"ticks\":\"\",\"zerolinecolor\":\"white\"}},\"shapedefaults\":{\"line\":{\"color\":\"#2a3f5f\"}},\"ternary\":{\"aaxis\":{\"gridcolor\":\"white\",\"linecolor\":\"white\",\"ticks\":\"\"},\"baxis\":{\"gridcolor\":\"white\",\"linecolor\":\"white\",\"ticks\":\"\"},\"bgcolor\":\"#E5ECF6\",\"caxis\":{\"gridcolor\":\"white\",\"linecolor\":\"white\",\"ticks\":\"\"}},\"title\":{\"x\":0.05},\"xaxis\":{\"automargin\":true,\"gridcolor\":\"white\",\"linecolor\":\"white\",\"ticks\":\"\",\"title\":{\"standoff\":15},\"zerolinecolor\":\"white\",\"zerolinewidth\":2},\"yaxis\":{\"automargin\":true,\"gridcolor\":\"white\",\"linecolor\":\"white\",\"ticks\":\"\",\"title\":{\"standoff\":15},\"zerolinecolor\":\"white\",\"zerolinewidth\":2}}},\"font\":{\"size\":15},\"margin\":{\"t\":11,\"l\":100,\"b\":11,\"r\":35},\"width\":900,\"height\":1300},                        {\"responsive\": true}                    ).then(function(){\n",
              "                            \n",
              "var gd = document.getElementById('dcaf3ac6-0e62-4d25-90ec-c6b80dec3c64');\n",
              "var x = new MutationObserver(function (mutations, observer) {{\n",
              "        var display = window.getComputedStyle(gd).display;\n",
              "        if (!display || display === 'none') {{\n",
              "            console.log([gd, 'removed!']);\n",
              "            Plotly.purge(gd);\n",
              "            observer.disconnect();\n",
              "        }}\n",
              "}});\n",
              "\n",
              "// Listen for the removal of the full notebook cells\n",
              "var notebookContainer = gd.closest('#notebook-container');\n",
              "if (notebookContainer) {{\n",
              "    x.observe(notebookContainer, {childList: true});\n",
              "}}\n",
              "\n",
              "// Listen for the clearing of the current output cell\n",
              "var outputEl = gd.closest('.output');\n",
              "if (outputEl) {{\n",
              "    x.observe(outputEl, {childList: true});\n",
              "}}\n",
              "\n",
              "                        })                };                            </script>        </div>\n",
              "</body>\n",
              "</html>"
            ]
          },
          "metadata": {}
        }
      ],
      "source": [
        "fig.update_layout(\n",
        "    #hovermode='x', \n",
        "               # title_text=\"Flujos talento IT entre compañias\", \n",
        "                font=dict(size = 15 ),#color = 'rgba(0,0,0,0)'\n",
        "                  width=900,\n",
        "                  height=1300,\n",
        "                  margin=dict(t=11,l=100,b=11,r=35),\n",
        "                 #paper_bgcolor='rgba(0,0,0,0)',\n",
        "                 #plot_bgcolor='rgba(0,0,0,0)',\n",
        "                \n",
        "                 )\n",
        "\n",
        "fig.show()\n"
      ]
    },
    {
      "cell_type": "markdown",
      "id": "fd02e9ed",
      "metadata": {
        "id": "fd02e9ed"
      },
      "source": [
        "### SAVE THE DIAGRAM AS A .png\n"
      ]
    },
    {
      "cell_type": "code",
      "execution_count": null,
      "id": "18ef2111",
      "metadata": {
        "id": "18ef2111"
      },
      "outputs": [],
      "source": [
        "#\n",
        "plot(fig,\n",
        "   image_filename='sankey_plot_hard2_letras', \n",
        "   image='png', \n",
        "  image_width=1000, \n",
        "  image_height=600)"
      ]
    },
    {
      "cell_type": "markdown",
      "id": "4974b77f",
      "metadata": {
        "id": "4974b77f"
      },
      "source": [
        "##### Other useful code"
      ]
    },
    {
      "cell_type": "markdown",
      "id": "499ff1e6",
      "metadata": {
        "scrolled": false,
        "id": "499ff1e6"
      },
      "source": [
        "\n",
        "fig.add_annotation(\n",
        "          x=-0.4,\n",
        "          y=0.958,\n",
        "          xref=\"paper\",\n",
        "          yref='paper',\n",
        "          text='<b>27 employees <br>leaving</b> <br>everis',\n",
        "          showarrow=False,\n",
        "          font=dict(\n",
        "              size=12,\n",
        "              color='black',\n",
        "              ),\n",
        "          align=\"left\",\n",
        "          )\n",
        "\n",
        "fig.add_annotation(\n",
        "          x=-0.4,\n",
        "          y=0.78,\n",
        "          xref=\"paper\",\n",
        "          yref='paper',\n",
        "          text='<b>13 employees <br>leaving</b> <br>santander',\n",
        "          showarrow=False,\n",
        "          font=dict(\n",
        "              size=12,\n",
        "              color='#FFFFFF'\n",
        "              ),\n",
        "          align=\"left\",\n",
        "          )\n",
        "fig.add_annotation(\n",
        "          x=-0.4,\n",
        "          y=0.55,\n",
        "          xref=\"paper\",\n",
        "          yref='paper',\n",
        "          text='<b>38 employees <br>leaving</b> <br>accenture',\n",
        "          showarrow=False,\n",
        "          font=dict(\n",
        "              size=12,\n",
        "              color='#FFFFFF'\n",
        "              ),\n",
        "          align=\"left\",\n",
        "          )\n",
        "\n",
        "fig.add_annotation(\n",
        "          x=-0.4,\n",
        "          y=0.35,\n",
        "          xref=\"paper\",\n",
        "          yref='paper',\n",
        "          text='<b>18 employees <br>leaving</b> <br>indra',\n",
        "          showarrow=False,\n",
        "          font=dict(\n",
        "              size=12,\n",
        "              color='#FFFFFF'\n",
        "              ),\n",
        "          align=\"left\",\n",
        "          )\n",
        "fig.add_annotation(\n",
        "          x=-0.4,\n",
        "          y=0.15,\n",
        "          xref=\"paper\",\n",
        "          yref='paper',\n",
        "          text='<b>18 employees <br>leaving</b> <br>BBVA',\n",
        "          showarrow=False,\n",
        "          font=dict(\n",
        "              size=12,\n",
        "              color='#FFFFFF'\n",
        "              ),\n",
        "          align=\"left\",\n",
        "          )\n",
        "fig.add_annotation(\n",
        "          x=-0.4,\n",
        "          y=0,\n",
        "          xref=\"paper\",\n",
        "          yref='paper',\n",
        "          text='<b>25 employees <br>leaving</b> <br>telefonica',\n",
        "          showarrow=False,\n",
        "          font=dict(\n",
        "              size=12,\n",
        "              color='#FFFFFF'\n",
        "              ),\n",
        "          align=\"left\",\n",
        "          )\n",
        "\n",
        "\n",
        "\n",
        "\n",
        "\n",
        "fig.add_annotation(\n",
        "          x=1.4,\n",
        "          y=0.95,\n",
        "          xref=\"paper\",\n",
        "          yref='paper',\n",
        "          text='<b>18 employees <br>leaving</b> <br>freelance',\n",
        "          showarrow=False,\n",
        "          font=dict(\n",
        "              size=12,\n",
        "              color='#FFFFFF'\n",
        "              ),\n",
        "          align=\"left\",\n",
        "          )\n",
        "\n",
        "fig.add_annotation(\n",
        "          x=1.4,\n",
        "          y=0.76,\n",
        "          xref=\"paper\",\n",
        "          yref='paper',\n",
        "          text='<b>37 employees <br>leaving</b> <br>deloitte',\n",
        "          showarrow=False,\n",
        "          font=dict(\n",
        "              size=12,\n",
        "              color='#FFFFFF'\n",
        "              ),\n",
        "          align=\"left\",\n",
        "          )\n",
        "\n",
        "\n",
        "fig.add_annotation(\n",
        "          x=1.4,\n",
        "          y=0.5,\n",
        "          xref=\"paper\",\n",
        "          yref='paper',\n",
        "          text='<b>17 employees <br>leaving</b> <br>iberia',\n",
        "          showarrow=False,\n",
        "          font=dict(\n",
        "              size=12,\n",
        "              color='#FFFFFF'\n",
        "              ),\n",
        "          align=\"left\",\n",
        "          )\n",
        "fig.add_annotation(\n",
        "          x=1.4,\n",
        "          y=0.3,\n",
        "          xref=\"paper\",\n",
        "          yref='paper',\n",
        "          text='<b>33 employees <br>leaving</b> <br>Capgemini',\n",
        "          showarrow=False,\n",
        "          font=dict(\n",
        "              size=12,\n",
        "              color='#FFFFFF'\n",
        "              ),\n",
        "          align=\"left\",\n",
        "          )\n",
        "\n",
        "fig.add_annotation(\n",
        "          x=1.4,\n",
        "          y=0.05,\n",
        "          xref=\"paper\",\n",
        "          yref='paper',\n",
        "          text='<b>31 employees <br>leaving</b> <br>ibm',\n",
        "          showarrow=False,\n",
        "          font=dict(\n",
        "              size=12,\n",
        "              color='#FFFFFF'\n",
        "              ),\n",
        "          align=\"left\",\n",
        "          )\n",
        "\n",
        "\n",
        "\n",
        "\n"
      ]
    },
    {
      "cell_type": "code",
      "execution_count": null,
      "id": "f6184d05",
      "metadata": {
        "id": "f6184d05"
      },
      "outputs": [],
      "source": []
    },
    {
      "cell_type": "code",
      "execution_count": null,
      "id": "7d3ae23c",
      "metadata": {
        "id": "7d3ae23c"
      },
      "outputs": [],
      "source": []
    },
    {
      "cell_type": "code",
      "execution_count": null,
      "id": "f5f6b66e",
      "metadata": {
        "id": "f5f6b66e"
      },
      "outputs": [],
      "source": []
    },
    {
      "cell_type": "code",
      "execution_count": null,
      "id": "30672c31",
      "metadata": {
        "id": "30672c31"
      },
      "outputs": [],
      "source": []
    },
    {
      "cell_type": "code",
      "execution_count": null,
      "id": "c13f1c80",
      "metadata": {
        "id": "c13f1c80"
      },
      "outputs": [],
      "source": []
    },
    {
      "cell_type": "code",
      "execution_count": null,
      "id": "9fde9963",
      "metadata": {
        "id": "9fde9963"
      },
      "outputs": [],
      "source": []
    },
    {
      "cell_type": "code",
      "execution_count": null,
      "id": "3a7ac826",
      "metadata": {
        "id": "3a7ac826"
      },
      "outputs": [],
      "source": []
    }
  ],
  "metadata": {
    "kernelspec": {
      "display_name": "Python 3 (ipykernel)",
      "language": "python",
      "name": "python3"
    },
    "language_info": {
      "codemirror_mode": {
        "name": "ipython",
        "version": 3
      },
      "file_extension": ".py",
      "mimetype": "text/x-python",
      "name": "python",
      "nbconvert_exporter": "python",
      "pygments_lexer": "ipython3",
      "version": "3.9.12"
    },
    "colab": {
      "provenance": []
    }
  },
  "nbformat": 4,
  "nbformat_minor": 5
}